{
 "cells": [
  {
   "cell_type": "code",
   "execution_count": 2,
   "metadata": {},
   "outputs": [],
   "source": [
    "import json\n",
    "\n",
    "with open('./file_urls.json', 'r') as f:\n",
    "    files = json.loads(f.read())"
   ]
  },
  {
   "cell_type": "code",
   "execution_count": 3,
   "metadata": {},
   "outputs": [
    {
     "name": "stdout",
     "output_type": "stream",
     "text": [
      "7816 9257 9423 10271 21140\n"
     ]
    }
   ],
   "source": [
    "names = set()\n",
    "urls = set()\n",
    "name_urls = set()\n",
    "name_url_fs = set()\n",
    "name2url = {}\n",
    "for f in files:\n",
    "    names.add(f['name'])\n",
    "    urls.add(f['url'])\n",
    "    name_urls.add(f['name']+':'+f['url'])\n",
    "    name_url_fs.add(f['name']+':'+f['url']+':'+f['from'])\n",
    "    if name2url.get(f['name']) is None:\n",
    "        name2url[f['name']] = set([f['url']])\n",
    "    else:\n",
    "        name2url[f['name']].add(f['url'])\n",
    "print(len(names), len(urls), len(name_urls), len(name_url_fs), len(files))\n",
    "# for k in name2url.keys():\n",
    "#     s = name2url[k]\n",
    "#     if len(s) > 1:\n",
    "#         print(k, s)"
   ]
  },
  {
   "cell_type": "code",
   "execution_count": 12,
   "metadata": {},
   "outputs": [
    {
     "name": "stdout",
     "output_type": "stream",
     "text": [
      "10271 21140\n"
     ]
    }
   ],
   "source": [
    "from urllib import parse\n",
    "from url_normalize import url_normalize\n",
    "unstructured_supported_file_exts = set([\n",
    "    'docx', 'doc', 'pptx', 'ppt', 'pdf', 'txt',\n",
    "])\n",
    "def get_ext(url: str):\n",
    "    parse_result = parse.urlparse(url)._replace(fragment='')\n",
    "    url = url_normalize(parse_result.geturl())\n",
    "    return url.split('.')[-1].lower()\n",
    "\n",
    "unique_tuples = set()\n",
    "unique_files = []\n",
    "for f in files:\n",
    "    id = f['name']+' : '+f['url']+' : '+f['from']\n",
    "    if id in unique_tuples:\n",
    "        continue\n",
    "    unique_tuples.add(id)\n",
    "    assert get_ext(f['url']) in unstructured_supported_file_exts\n",
    "    f['format'] = get_ext(f['url'])\n",
    "    unique_files.append(f)\n",
    "print(len(unique_files), len(files))\n",
    "with open('./filelinks-0403.json', 'w') as f:\n",
    "    json.dump(unique_files, f, indent=4)"
   ]
  },
  {
   "attachments": {},
   "cell_type": "markdown",
   "metadata": {},
   "source": [
    "还需要比一下文件哈希以进一步去重"
   ]
  }
 ],
 "metadata": {
  "kernelspec": {
   "display_name": "bitqa",
   "language": "python",
   "name": "python3"
  },
  "language_info": {
   "codemirror_mode": {
    "name": "ipython",
    "version": 3
   },
   "file_extension": ".py",
   "mimetype": "text/x-python",
   "name": "python",
   "nbconvert_exporter": "python",
   "pygments_lexer": "ipython3",
   "version": "3.9.0"
  },
  "orig_nbformat": 4
 },
 "nbformat": 4,
 "nbformat_minor": 2
}
